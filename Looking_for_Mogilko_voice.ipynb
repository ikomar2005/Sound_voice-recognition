{
 "cells": [
  {
   "cell_type": "code",
   "execution_count": 14,
   "metadata": {},
   "outputs": [],
   "source": [
    "import librosa as lr\n",
    "import numpy as np\n",
    "from keras.layers import Dense, LSTM, Activation\n",
    "from keras.models import Sequential\n",
    "from keras.optimizers import Adam\n",
    "from keras.models import load_model"
   ]
  },
  {
   "cell_type": "code",
   "execution_count": 15,
   "metadata": {},
   "outputs": [],
   "source": [
    "SR = 16000 # sampling frequency\n",
    "LENGTH = 16 # The number of blocks in one pass of the neural network\n",
    "OVERLAP = 8 # The step in the number of blocks between training samples\n",
    "FFT = 1024 # Block Length (64 ms)"
   ]
  },
  {
   "cell_type": "code",
   "execution_count": 16,
   "metadata": {},
   "outputs": [],
   "source": [
    "def filter_audio(audio):\n",
    "  # We calculate the voice energy for each block in 125 ms\n",
    "  apower = lr.amplitude_to_db(np.abs(lr.stft(audio, n_fft=2048)), ref=np.max)\n",
    "\n",
    "  # We summarize the energy at each frequency, normalize\n",
    "  apsums = np.sum(apower, axis=0)**2\n",
    "  apsums -= np.min(apsums)\n",
    "  apsums /= np.max(apsums)\n",
    "\n",
    "  # Smooth the graph to keep short skips and pauses, remove sharpness\n",
    "  apsums = np.convolve(apsums, np.ones((9,)), 'same')\n",
    "  # Normalize again\n",
    "  apsums -= np.min(apsums)\n",
    "  apsums /= np.max(apsums)\n",
    "\n",
    "  # Set the threshold to 35% noise above the voice\n",
    "  apsums = np.array(apsums > 0.35, dtype=bool)\n",
    "\n",
    "  # Extend blocks each 125 ms to individual samples (2048 per block)\n",
    "  apsums = np.repeat(apsums, np.ceil(len(audio) / len(apsums)))[:len(audio)]\n",
    "\n",
    "  return audio[apsums] # Filtering"
   ]
  },
  {
   "cell_type": "code",
   "execution_count": 17,
   "metadata": {},
   "outputs": [],
   "source": [
    "def prepare_audio(aname, target=False):\n",
    "  # Download and prepare data\n",
    "  print('loading %s' % aname)\n",
    "  audio, _ = lr.load(aname, sr=SR)\n",
    "  audio = filter_audio(audio) # Remove silence and spaces between words\n",
    "  data = lr.stft(audio, n_fft=FFT).swapaxes(0, 1) # extract the spectrogram\n",
    "  samples = []\n",
    "\n",
    "  for i in range(0, len(data) - LENGTH, OVERLAP):\n",
    "    samples.append(np.abs(data[i:i + LENGTH])) # Create a training set\n",
    "\n",
    "  results_shape = (len(samples), 1)\n",
    "  results = np.ones(results_shape) if target else np.zeros(results_shape)\n",
    "  return np.array(samples), results\n"
   ]
  },
  {
   "cell_type": "code",
   "execution_count": 18,
   "metadata": {},
   "outputs": [
    {
     "name": "stdout",
     "output_type": "stream",
     "text": [
      "C:\\Users\\Igor\\Desktop\\phyton\\SOUND\n"
     ]
    }
   ],
   "source": [
    "#%cd C:\\Users\\Igor\\Desktop\\phyton\\SOUND"
   ]
  },
  {
   "cell_type": "code",
   "execution_count": 19,
   "metadata": {},
   "outputs": [],
   "source": [
    "voices = [('Mogilko_5.wav', False)]"
   ]
  },
  {
   "cell_type": "code",
   "execution_count": 20,
   "metadata": {},
   "outputs": [
    {
     "name": "stdout",
     "output_type": "stream",
     "text": [
      "loading Mogilko_5.wav\n"
     ]
    }
   ],
   "source": [
    "X, Y = prepare_audio(*voices[0])\n",
    "for voice in voices[1:]:\n",
    "  dx, dy = prepare_audio(*voice)\n",
    "  X = np.concatenate((X, dx), axis=0)\n",
    "  Y = np.concatenate((Y, dy), axis=0)\n",
    "  del dx, dy"
   ]
  },
  {
   "cell_type": "code",
   "execution_count": 21,
   "metadata": {},
   "outputs": [],
   "source": [
    "# Randomly mix all the blocks\n",
    "perm = np.random.permutation(len(X))\n",
    "X = X[perm]\n",
    "Y = Y[perm]"
   ]
  },
  {
   "cell_type": "code",
   "execution_count": 22,
   "metadata": {},
   "outputs": [
    {
     "name": "stdout",
     "output_type": "stream",
     "text": [
      "<class 'numpy.ndarray'>\n"
     ]
    }
   ],
   "source": [
    "print(type(X))\n"
   ]
  },
  {
   "cell_type": "code",
   "execution_count": 23,
   "metadata": {},
   "outputs": [],
   "source": [
    "\n",
    "model = load_model('Mogilko.hdf5')"
   ]
  },
  {
   "cell_type": "code",
   "execution_count": 13,
   "metadata": {},
   "outputs": [
    {
     "name": "stdout",
     "output_type": "stream",
     "text": [
      "0.7830922\n",
      "<class 'numpy.ndarray'>\n"
     ]
    }
   ],
   "source": [
    "prediction = model.predict(X)\n",
    "print(np.mean(prediction))\n",
    "print(type(prediction))"
   ]
  },
  {
   "cell_type": "code",
   "execution_count": null,
   "metadata": {},
   "outputs": [],
   "source": []
  },
  {
   "cell_type": "code",
   "execution_count": null,
   "metadata": {},
   "outputs": [],
   "source": []
  }
 ],
 "metadata": {
  "kernelspec": {
   "display_name": "Python 3",
   "language": "python",
   "name": "python3"
  },
  "language_info": {
   "codemirror_mode": {
    "name": "ipython",
    "version": 3
   },
   "file_extension": ".py",
   "mimetype": "text/x-python",
   "name": "python",
   "nbconvert_exporter": "python",
   "pygments_lexer": "ipython3",
   "version": "3.7.3"
  }
 },
 "nbformat": 4,
 "nbformat_minor": 2
}
